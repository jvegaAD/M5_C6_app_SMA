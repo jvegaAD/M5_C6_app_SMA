{
 "cells": [
  {
   "cell_type": "markdown",
   "id": "fb03a613",
   "metadata": {},
   "source": [
    "# Manual de Creación de Aplicación Django con Formulario y Base de Datos PostgreSQL"
   ]
  },
  {
   "cell_type": "markdown",
   "id": "6bfdd4b7",
   "metadata": {},
   "source": [
    "### **1. Crear y activar un entorno virtual**"
   ]
  },
  {
   "cell_type": "markdown",
   "id": "95671179",
   "metadata": {},
   "source": [
    "El entorno virtual permite aislar las dependencias del proyecto."
   ]
  },
  {
   "cell_type": "code",
   "execution_count": null,
   "id": "3ef8ee6a",
   "metadata": {},
   "outputs": [],
   "source": [
    "python -m venv venv"
   ]
  },
  {
   "cell_type": "code",
   "execution_count": null,
   "id": "7511f6fc",
   "metadata": {},
   "outputs": [],
   "source": [
    ".\\venv\\Scripts\\activate"
   ]
  },
  {
   "cell_type": "markdown",
   "id": "0af80592",
   "metadata": {},
   "source": [
    "---"
   ]
  },
  {
   "cell_type": "markdown",
   "id": "8d449495",
   "metadata": {},
   "source": [
    "### **2. Instalar las dependencias necesarias**"
   ]
  },
  {
   "cell_type": "markdown",
   "id": "5fd483cd",
   "metadata": {},
   "source": [
    "Instalamos `Django`, `psycopg2` para PostgreSQL y `djangorestframework`."
   ]
  },
  {
   "cell_type": "code",
   "execution_count": null,
   "id": "740f6c92",
   "metadata": {},
   "outputs": [],
   "source": [
    "pip install Django psycopg2 djangorestframework"
   ]
  },
  {
   "cell_type": "markdown",
   "id": "8c557019",
   "metadata": {},
   "source": [
    "---"
   ]
  },
  {
   "cell_type": "markdown",
   "id": "075fa876",
   "metadata": {},
   "source": [
    "### **3. Crear un nuevo proyecto Django**"
   ]
  },
  {
   "cell_type": "code",
   "execution_count": null,
   "id": "21cf7b2f",
   "metadata": {},
   "outputs": [],
   "source": [
    "django-admin startproject user_project ."
   ]
  },
  {
   "cell_type": "markdown",
   "id": "e4162161",
   "metadata": {},
   "source": [
    "---"
   ]
  },
  {
   "cell_type": "markdown",
   "id": "ce08ca07",
   "metadata": {},
   "source": [
    "### **4. Configurar la conexión a PostgreSQL en `settings.py`**"
   ]
  },
  {
   "cell_type": "code",
   "execution_count": null,
   "id": "91be1a6c",
   "metadata": {},
   "outputs": [],
   "source": [
    "DATABASES = {\n",
    "    'default': {\n",
    "        'ENGINE': 'django.db.backends.postgresql',\n",
    "        'NAME': 'nombre_de_tu_base_de_datos',\n",
    "        'USER': 'nombre_de_usuario',\n",
    "        'PASSWORD': 'tu_contraseña',\n",
    "        'HOST': 'localhost',\n",
    "        'PORT': '5432',\n",
    "    }\n",
    "}"
   ]
  },
  {
   "cell_type": "markdown",
   "id": "5ba3f4f9",
   "metadata": {},
   "source": [
    "---"
   ]
  },
  {
   "cell_type": "markdown",
   "id": "53626892",
   "metadata": {},
   "source": [
    "### **5. Crear una nueva aplicación**"
   ]
  },
  {
   "cell_type": "code",
   "execution_count": null,
   "id": "0772fbc8",
   "metadata": {},
   "outputs": [],
   "source": [
    "django-admin startapp user_app"
   ]
  },
  {
   "cell_type": "markdown",
   "id": "acb729e8",
   "metadata": {},
   "source": [
    "Modifica `INSTALLED_APPS` en `settings.py` para incluir la aplicación y Django REST Framework."
   ]
  },
  {
   "cell_type": "code",
   "execution_count": null,
   "id": "3137a7c5",
   "metadata": {},
   "outputs": [],
   "source": [
    "INSTALLED_APPS = [\n",
    "    ..., \n",
    "    'user_app',\n",
    "    'rest_framework',\n",
    "]"
   ]
  },
  {
   "cell_type": "markdown",
   "id": "6d466e71",
   "metadata": {},
   "source": [
    "---"
   ]
  },
  {
   "cell_type": "markdown",
   "id": "22f90521",
   "metadata": {},
   "source": [
    "### **6. Definir el modelo en `models.py`**"
   ]
  },
  {
   "cell_type": "code",
   "execution_count": null,
   "id": "81f16a16",
   "metadata": {},
   "outputs": [],
   "source": [
    "from django.db import models\n",
    "\n",
    "class UserProfile(models.Model):\n",
    "    full_name = models.CharField(max_length=100)\n",
    "    email = models.EmailField(unique=True)\n",
    "    age = models.PositiveIntegerField()\n",
    "    created_at = models.DateTimeField(auto_now_add=True)"
   ]
  },
  {
   "cell_type": "markdown",
   "id": "d5425923",
   "metadata": {},
   "source": [
    "---"
   ]
  },
  {
   "cell_type": "markdown",
   "id": "52dda2cc",
   "metadata": {},
   "source": [
    "### **7. Crear y aplicar las migraciones**"
   ]
  },
  {
   "cell_type": "code",
   "execution_count": null,
   "id": "b548fb7f",
   "metadata": {},
   "outputs": [],
   "source": [
    "python manage.py makemigrations"
   ]
  },
  {
   "cell_type": "code",
   "execution_count": null,
   "id": "362dd710",
   "metadata": {},
   "outputs": [],
   "source": [
    "python manage.py migrate"
   ]
  },
  {
   "cell_type": "markdown",
   "id": "b2f1de77",
   "metadata": {},
   "source": [
    "---"
   ]
  },
  {
   "cell_type": "markdown",
   "id": "6fe21e57",
   "metadata": {},
   "source": [
    "### **8. Registrar el modelo en `admin.py`**"
   ]
  },
  {
   "cell_type": "code",
   "execution_count": null,
   "id": "4c2faded",
   "metadata": {},
   "outputs": [],
   "source": [
    "from django.contrib import admin\n",
    "from .models import UserProfile\n",
    "\n",
    "admin.site.register(UserProfile)"
   ]
  },
  {
   "cell_type": "markdown",
   "id": "57338a0b",
   "metadata": {},
   "source": [
    "---"
   ]
  },
  {
   "cell_type": "markdown",
   "id": "de07121c",
   "metadata": {},
   "source": [
    "### **9. Crear el formulario en `forms.py`**"
   ]
  },
  {
   "cell_type": "code",
   "execution_count": null,
   "id": "1fb5710e",
   "metadata": {},
   "outputs": [],
   "source": [
    "from django import forms\n",
    "from .models import UserProfile\n",
    "\n",
    "class UserProfileForm(forms.ModelForm):\n",
    "    class Meta:\n",
    "        model = UserProfile\n",
    "        fields = ['full_name', 'email', 'age']"
   ]
  },
  {
   "cell_type": "markdown",
   "id": "7a153831",
   "metadata": {},
   "source": [
    "---"
   ]
  },
  {
   "cell_type": "markdown",
   "id": "ed177b5c",
   "metadata": {},
   "source": [
    "### **10. Configurar la vista en `views.py`**"
   ]
  },
  {
   "cell_type": "code",
   "execution_count": null,
   "id": "38a26e81",
   "metadata": {},
   "outputs": [],
   "source": [
    "from django.shortcuts import render, redirect\n",
    "from .forms import UserProfileForm\n",
    "\n",
    "def user_form_view(request):\n",
    "    if request.method == 'POST':\n",
    "        form = UserProfileForm(request.POST)\n",
    "        if form.is_valid():\n",
    "            form.save()\n",
    "            return redirect('user-success')\n",
    "    else:\n",
    "        form = UserProfileForm()\n",
    "    return render(request, 'user_form.html', {'form': form})"
   ]
  },
  {
   "cell_type": "markdown",
   "id": "5c63703f",
   "metadata": {},
   "source": [
    "---"
   ]
  },
  {
   "cell_type": "markdown",
   "id": "42b75e87",
   "metadata": {},
   "source": [
    "### **11. Crear la plantilla HTML en `templates/user_form.html`**"
   ]
  },
  {
   "cell_type": "code",
   "execution_count": null,
   "id": "dc01564e",
   "metadata": {},
   "outputs": [],
   "source": [
    "<!DOCTYPE html>\n",
    "<html lang=\"en\">\n",
    "<head>\n",
    "    <title>User Form</title>\n",
    "</head>\n",
    "<body>\n",
    "    <h1>User Registration</h1>\n",
    "    <form method=\"post\">\n",
    "        {% csrf_token %}\n",
    "        {{ form.as_p }}\n",
    "        <button type=\"submit\">Submit</button>\n",
    "    </form>\n",
    "</body>\n",
    "</html>"
   ]
  },
  {
   "cell_type": "markdown",
   "id": "d3db166d",
   "metadata": {},
   "source": [
    "---"
   ]
  },
  {
   "cell_type": "markdown",
   "id": "7b65ca89",
   "metadata": {},
   "source": [
    "### **12. Definir las rutas en `urls.py` de la aplicación**"
   ]
  },
  {
   "cell_type": "code",
   "execution_count": null,
   "id": "82a181c1",
   "metadata": {},
   "outputs": [],
   "source": [
    "from django.urls import path\n",
    "from . import views\n",
    "\n",
    "urlpatterns = [\n",
    "    path('form/', views.user_form_view, name='user-form'),\n",
    "    path('success/', views.user_form_view, name='user-success'),\n",
    "]"
   ]
  },
  {
   "cell_type": "markdown",
   "id": "b8d790f8",
   "metadata": {},
   "source": [
    "---"
   ]
  },
  {
   "cell_type": "markdown",
   "id": "29a0b594",
   "metadata": {},
   "source": [
    "### **13. Configurar las rutas principales en `urls.py` del proyecto**"
   ]
  },
  {
   "cell_type": "code",
   "execution_count": null,
   "id": "9ecc6397",
   "metadata": {},
   "outputs": [],
   "source": [
    "from django.contrib import admin\n",
    "from django.urls import path, include\n",
    "\n",
    "urlpatterns = [\n",
    "    path('admin/', admin.site.urls),\n",
    "    path('api/v1/', include('user_app.urls')),\n",
    "]"
   ]
  },
  {
   "cell_type": "markdown",
   "id": "9de6d38b",
   "metadata": {},
   "source": [
    "---"
   ]
  },
  {
   "cell_type": "markdown",
   "id": "51e84d7d",
   "metadata": {},
   "source": [
    "### **14. Configurar la vista API en `views.py`**"
   ]
  },
  {
   "cell_type": "code",
   "execution_count": null,
   "id": "34f0a83e",
   "metadata": {},
   "outputs": [],
   "source": [
    "from rest_framework import viewsets\n",
    "from .models import UserProfile\n",
    "from .serializers import UserProfileSerializer\n",
    "\n",
    "class UserProfileViewSet(viewsets.ModelViewSet):\n",
    "    queryset = UserProfile.objects.all()\n",
    "    serializer_class = UserProfileSerializer"
   ]
  },
  {
   "cell_type": "markdown",
   "id": "75dcf5c7",
   "metadata": {},
   "source": [
    "---"
   ]
  },
  {
   "cell_type": "markdown",
   "id": "f355b6f7",
   "metadata": {},
   "source": [
    "### **15. Crear el serializador en `serializers.py`**"
   ]
  },
  {
   "cell_type": "code",
   "execution_count": null,
   "id": "d60523be",
   "metadata": {},
   "outputs": [],
   "source": [
    "from rest_framework import serializers\n",
    "from .models import UserProfile\n",
    "\n",
    "class UserProfileSerializer(serializers.ModelSerializer):\n",
    "    class Meta:\n",
    "        model = UserProfile\n",
    "        fields = '__all__'"
   ]
  },
  {
   "cell_type": "markdown",
   "id": "02f7e80b",
   "metadata": {},
   "source": [
    "---"
   ]
  },
  {
   "cell_type": "markdown",
   "id": "2d18d14f",
   "metadata": {},
   "source": [
    "### **16. Configurar las rutas de la API en `urls.py`**"
   ]
  },
  {
   "cell_type": "code",
   "execution_count": null,
   "id": "1ce06208",
   "metadata": {},
   "outputs": [],
   "source": [
    "from rest_framework import routers\n",
    "from .views import UserProfileViewSet\n",
    "\n",
    "router = routers.DefaultRouter()\n",
    "router.register(r'users', UserProfileViewSet)\n",
    "\n",
    "urlpatterns += router.urls"
   ]
  },
  {
   "cell_type": "markdown",
   "id": "63cd428c",
   "metadata": {},
   "source": [
    "---"
   ]
  },
  {
   "cell_type": "markdown",
   "id": "36aa2955",
   "metadata": {},
   "source": [
    "### **17. Ejecutar el servidor**"
   ]
  },
  {
   "cell_type": "code",
   "execution_count": null,
   "id": "d5be614f",
   "metadata": {},
   "outputs": [],
   "source": [
    "python manage.py runserver"
   ]
  },
  {
   "cell_type": "markdown",
   "id": "de056a33",
   "metadata": {},
   "source": [
    "---"
   ]
  },
  {
   "cell_type": "markdown",
   "id": "8ca45c92",
   "metadata": {},
   "source": [
    "### **18. Acceder a la aplicación**"
   ]
  },
  {
   "cell_type": "markdown",
   "id": "b23046fb",
   "metadata": {},
   "source": [
    "- **Formulario web:** `http://127.0.0.1:8000/api/v1/form/`"
   ]
  },
  {
   "cell_type": "markdown",
   "id": "0b65e99e",
   "metadata": {},
   "source": [
    "- **Panel de administración:** `http://127.0.0.1:8000/admin/`"
   ]
  },
  {
   "cell_type": "markdown",
   "id": "964a5e47",
   "metadata": {},
   "source": [
    "- **Endpoint REST:** `http://127.0.0.1:8000/api/v1/users/`"
   ]
  }
 ],
 "metadata": {
  "language_info": {
   "name": "python"
  }
 },
 "nbformat": 4,
 "nbformat_minor": 5
}
