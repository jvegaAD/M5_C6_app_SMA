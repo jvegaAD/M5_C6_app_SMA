{
 "cells": [
  {
   "cell_type": "code",
   "execution_count": null,
   "id": "f3310b4e",
   "metadata": {},
   "outputs": [],
   "source": [
    "# Consulta 1\n",
    "SELECT * FROM formulario_reporte;"
   ]
  },
  {
   "cell_type": "code",
   "execution_count": null,
   "id": "6c485037",
   "metadata": {},
   "outputs": [],
   "source": [
    "# Consulta 2\n",
    "SELECT COUNT(*) FROM formulario_reporte;"
   ]
  },
  {
   "cell_type": "code",
   "execution_count": null,
   "id": "488b7fbf",
   "metadata": {},
   "outputs": [],
   "source": [
    "# Consulta 3\n",
    "SELECT comuna, COUNT(*) AS total_reportes FROM formulario_reporte GROUP BY comuna;"
   ]
  },
  {
   "cell_type": "code",
   "execution_count": null,
   "id": "a88b734a",
   "metadata": {},
   "outputs": [],
   "source": [
    "# Consulta 4\n",
    "SELECT * FROM formulario_reporte WHERE fecha BETWEEN '2022-01-01' AND '2022-12-31';"
   ]
  },
  {
   "cell_type": "code",
   "execution_count": null,
   "id": "37ae6091",
   "metadata": {},
   "outputs": [],
   "source": [
    "# Consulta 5\n",
    "SELECT * FROM formulario_reporte WHERE estado = 'En revisión';"
   ]
  },
  {
   "cell_type": "code",
   "execution_count": null,
   "id": "bf920704",
   "metadata": {},
   "outputs": [],
   "source": [
    "# Consulta 6\n",
    "SELECT unidad, AVG(cantidad) AS promedio, MAX(cantidad) AS maximo, MIN(cantidad) AS minimo FROM formulario_reporte GROUP BY unidad;"
   ]
  },
  {
   "cell_type": "code",
   "execution_count": null,
   "id": "8a20aa7c",
   "metadata": {},
   "outputs": [],
   "source": [
    "# Consulta 7\n",
    "SELECT tema, COUNT(*) AS frecuencia FROM formulario_reporte GROUP BY tema ORDER BY frecuencia DESC;"
   ]
  },
  {
   "cell_type": "code",
   "execution_count": null,
   "id": "7e1935b5",
   "metadata": {},
   "outputs": [],
   "source": [
    "# Consulta Ordenar las Tabal por Tema y Unidad + Datos del reporte\n",
    "SELECT \n",
    "    Tema, \n",
    "    unidad, \n",
    "    ROUND(AVG(cantidad), 2) AS promedio, \n",
    "    MAX(cantidad) AS maximo, \n",
    "    MIN(cantidad) AS minimo\n",
    "FROM \n",
    "    formulario_reporte\n",
    "GROUP BY \n",
    "    Tema, unidad;"
   ]
  },
  {
   "cell_type": "code",
   "execution_count": null,
   "id": "3da26628",
   "metadata": {},
   "outputs": [],
   "source": [
    "# Cambiar valores de una celda si cumple con la igualdad\n",
    "UPDATE formulario_reporte\n",
    "SET unidad = 'µg/m³'\n",
    "WHERE tema = 'Uso residencial de calefactores';"
   ]
  }
 ],
 "metadata": {
  "language_info": {
   "name": "python"
  }
 },
 "nbformat": 4,
 "nbformat_minor": 5
}
