{
 "cells": [
  {
   "cell_type": "markdown",
   "id": "a10ccacb",
   "metadata": {},
   "source": [
    "# Consultas de Django ORM en PowerShell"
   ]
  },
  {
   "cell_type": "code",
   "execution_count": null,
   "id": "83822f6d",
   "metadata": {},
   "outputs": [],
   "source": [
    "# Activar el entorno virtual en PowerShell\n",
    "# .\\venv\\Scripts\\Activate.ps1\n",
    "\n",
    "# Navegar al directorio del proyecto\n",
    "cd C:\\ruta\\a\\tu\\proyecto\n",
    "\n",
    "# Iniciar el shell de Django\n",
    "python manage.py shell\n"
   ]
  },
  {
   "cell_type": "markdown",
   "id": "9fd7c395",
   "metadata": {},
   "source": [
    "## Consultas a ejecutar en el shell de Django"
   ]
  },
  {
   "cell_type": "code",
   "execution_count": null,
   "id": "3ec6ae14",
   "metadata": {},
   "outputs": [],
   "source": [
    "# Importar el modelo\n",
    "from formulario.models import Reporte\n"
   ]
  },
  {
   "cell_type": "code",
   "execution_count": null,
   "id": "d9aac2dd",
   "metadata": {},
   "outputs": [],
   "source": [
    "# Contar registros\n",
    "Reporte.objects.count()\n"
   ]
  },
  {
   "cell_type": "code",
   "execution_count": null,
   "id": "13d79a21",
   "metadata": {},
   "outputs": [],
   "source": [
    "# Obtener el primer registro\n",
    "Reporte.objects.first()\n"
   ]
  },
  {
   "cell_type": "code",
   "execution_count": null,
   "id": "2b8ea23a",
   "metadata": {},
   "outputs": [],
   "source": [
    "# Filtrar registros por el campo 'departamento'\n",
    "Reporte.objects.filter(departamento='Departamento A')\n"
   ]
  },
  {
   "cell_type": "code",
   "execution_count": null,
   "id": "27bf114c",
   "metadata": {},
   "outputs": [],
   "source": [
    "# Ordenar registros por fecha ascendente\n",
    "Reporte.objects.order_by('fecha')\n"
   ]
  },
  {
   "cell_type": "code",
   "execution_count": null,
   "id": "dc81918a",
   "metadata": {},
   "outputs": [],
   "source": [
    "# Crear un nuevo registro\n",
    "nuevo_reporte = Reporte.objects.create(\n",
    "    departamento='Nuevo Departamento',\n",
    "    comuna='Nueva Comuna',\n",
    "    fecha='2025-02-02',\n",
    "    tema='Nuevo Tema',\n",
    "    descripcion_reporte='Descripción del nuevo reporte',\n",
    "    unidad='Unidad de medida',\n",
    "    cantidad=10,\n",
    "    estado='Activo'\n",
    ")\n"
   ]
  },
  {
   "cell_type": "code",
   "execution_count": null,
   "id": "e7bb005f",
   "metadata": {},
   "outputs": [],
   "source": [
    "# Actualizar un registro existente\n",
    "reporte = Reporte.objects.get(id=1)\n",
    "reporte.estado = 'Actualizado'\n",
    "reporte.save()\n"
   ]
  },
  {
   "cell_type": "code",
   "execution_count": null,
   "id": "77950ac7",
   "metadata": {},
   "outputs": [],
   "source": [
    "# Eliminar un registro\n",
    "reporte = Reporte.objects.get(id=1)\n",
    "reporte.delete()\n"
   ]
  },
  {
   "cell_type": "code",
   "execution_count": null,
   "id": "b9914fd5",
   "metadata": {},
   "outputs": [],
   "source": [
    "# Obtener registros en un rango de fechas\n",
    "from datetime import date\n",
    "Reporte.objects.filter(fecha__range=(date(2025, 1, 1), date(2025, 12, 31)))\n"
   ]
  },
  {
   "cell_type": "markdown",
   "id": "68ad637c",
   "metadata": {},
   "source": [
    "## Salir del shell de Django"
   ]
  },
  {
   "cell_type": "code",
   "execution_count": null,
   "id": "c64a6fc8",
   "metadata": {},
   "outputs": [],
   "source": [
    "# Para salir del shell de Django, utiliza cualquiera de los siguientes comandos o atajos:\n",
    "exit()\n",
    "# o\n",
    "quit()\n",
    "\n",
    "# También puedes usar la combinación de teclas:\n",
    "# Ctrl + Z (Windows) y luego Enter, o Ctrl + D (Linux/Mac)\n"
   ]
  }
 ],
 "metadata": {},
 "nbformat": 4,
 "nbformat_minor": 5
}
